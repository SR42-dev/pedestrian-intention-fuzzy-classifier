{
 "cells": [
  {
   "cell_type": "code",
   "execution_count": 8,
   "id": "b8ad55c6",
   "metadata": {},
   "outputs": [],
   "source": [
    "import pandas as pd"
   ]
  },
  {
   "cell_type": "code",
   "execution_count": 10,
   "id": "53c9b888",
   "metadata": {},
   "outputs": [
    {
     "data": {
      "text/html": [
       "<div>\n",
       "<style scoped>\n",
       "    .dataframe tbody tr th:only-of-type {\n",
       "        vertical-align: middle;\n",
       "    }\n",
       "\n",
       "    .dataframe tbody tr th {\n",
       "        vertical-align: top;\n",
       "    }\n",
       "\n",
       "    .dataframe thead th {\n",
       "        text-align: right;\n",
       "    }\n",
       "</style>\n",
       "<table border=\"1\" class=\"dataframe\">\n",
       "  <thead>\n",
       "    <tr style=\"text-align: right;\">\n",
       "      <th></th>\n",
       "      <th>frameNumber</th>\n",
       "      <th>windowSize</th>\n",
       "      <th>XYError</th>\n",
       "      <th>timeToFuture</th>\n",
       "      <th>leftShoulderX</th>\n",
       "      <th>leftShoulderY</th>\n",
       "      <th>rightShoulderX</th>\n",
       "      <th>rightShoulderY</th>\n",
       "      <th>angleOfApproach</th>\n",
       "      <th>XFrameSpeed</th>\n",
       "      <th>YFrameSpeed</th>\n",
       "      <th>occupiedHeights</th>\n",
       "      <th>predictedX</th>\n",
       "      <th>predictedY</th>\n",
       "    </tr>\n",
       "  </thead>\n",
       "  <tbody>\n",
       "    <tr>\n",
       "      <th>0</th>\n",
       "      <td>0</td>\n",
       "      <td>2</td>\n",
       "      <td>10</td>\n",
       "      <td>1</td>\n",
       "      <td>256</td>\n",
       "      <td>224</td>\n",
       "      <td>220</td>\n",
       "      <td>216</td>\n",
       "      <td>158.700592</td>\n",
       "      <td>6118.192890</td>\n",
       "      <td>6169.606276</td>\n",
       "      <td>0.467593</td>\n",
       "      <td>544.780507</td>\n",
       "      <td>549.358494</td>\n",
       "    </tr>\n",
       "    <tr>\n",
       "      <th>1</th>\n",
       "      <td>1</td>\n",
       "      <td>2</td>\n",
       "      <td>10</td>\n",
       "      <td>1</td>\n",
       "      <td>257</td>\n",
       "      <td>224</td>\n",
       "      <td>221</td>\n",
       "      <td>219</td>\n",
       "      <td>130.638170</td>\n",
       "      <td>10.295929</td>\n",
       "      <td>61.775573</td>\n",
       "      <td>0.467593</td>\n",
       "      <td>241.167518</td>\n",
       "      <td>259.005105</td>\n",
       "    </tr>\n",
       "    <tr>\n",
       "      <th>2</th>\n",
       "      <td>2</td>\n",
       "      <td>2</td>\n",
       "      <td>10</td>\n",
       "      <td>1</td>\n",
       "      <td>260</td>\n",
       "      <td>224</td>\n",
       "      <td>221</td>\n",
       "      <td>223</td>\n",
       "      <td>38.349974</td>\n",
       "      <td>38.837407</td>\n",
       "      <td>77.674814</td>\n",
       "      <td>0.483796</td>\n",
       "      <td>239.000000</td>\n",
       "      <td>243.333333</td>\n",
       "    </tr>\n",
       "    <tr>\n",
       "      <th>3</th>\n",
       "      <td>3</td>\n",
       "      <td>2</td>\n",
       "      <td>10</td>\n",
       "      <td>1</td>\n",
       "      <td>262</td>\n",
       "      <td>224</td>\n",
       "      <td>223</td>\n",
       "      <td>225</td>\n",
       "      <td>3.771347</td>\n",
       "      <td>42.666016</td>\n",
       "      <td>0.000000</td>\n",
       "      <td>0.490741</td>\n",
       "      <td>274.231478</td>\n",
       "      <td>243.500000</td>\n",
       "    </tr>\n",
       "    <tr>\n",
       "      <th>4</th>\n",
       "      <td>4</td>\n",
       "      <td>2</td>\n",
       "      <td>10</td>\n",
       "      <td>1</td>\n",
       "      <td>265</td>\n",
       "      <td>223</td>\n",
       "      <td>225</td>\n",
       "      <td>225</td>\n",
       "      <td>-6.989651</td>\n",
       "      <td>100.293254</td>\n",
       "      <td>0.000000</td>\n",
       "      <td>0.497685</td>\n",
       "      <td>317.089184</td>\n",
       "      <td>243.600000</td>\n",
       "    </tr>\n",
       "  </tbody>\n",
       "</table>\n",
       "</div>"
      ],
      "text/plain": [
       "   frameNumber  windowSize  XYError  timeToFuture  leftShoulderX  \\\n",
       "0            0           2       10             1            256   \n",
       "1            1           2       10             1            257   \n",
       "2            2           2       10             1            260   \n",
       "3            3           2       10             1            262   \n",
       "4            4           2       10             1            265   \n",
       "\n",
       "   leftShoulderY  rightShoulderX  rightShoulderY  angleOfApproach  \\\n",
       "0            224             220             216       158.700592   \n",
       "1            224             221             219       130.638170   \n",
       "2            224             221             223        38.349974   \n",
       "3            224             223             225         3.771347   \n",
       "4            223             225             225        -6.989651   \n",
       "\n",
       "   XFrameSpeed  YFrameSpeed  occupiedHeights  predictedX  predictedY  \n",
       "0  6118.192890  6169.606276         0.467593  544.780507  549.358494  \n",
       "1    10.295929    61.775573         0.467593  241.167518  259.005105  \n",
       "2    38.837407    77.674814         0.483796  239.000000  243.333333  \n",
       "3    42.666016     0.000000         0.490741  274.231478  243.500000  \n",
       "4   100.293254     0.000000         0.497685  317.089184  243.600000  "
      ]
     },
     "execution_count": 10,
     "metadata": {},
     "output_type": "execute_result"
    }
   ],
   "source": [
    "df = pd.read_csv('data.csv')\n",
    "df.head()"
   ]
  },
  {
   "cell_type": "code",
   "execution_count": 11,
   "id": "80578acb",
   "metadata": {},
   "outputs": [
    {
     "data": {
      "text/plain": [
       "<AxesSubplot:>"
      ]
     },
     "execution_count": 11,
     "metadata": {},
     "output_type": "execute_result"
    },
    {
     "data": {
      "image/png": "[encoded data removed]",
      "text/plain": [
       "<Figure size 432x288 with 1 Axes>"
      ]
     },
     "metadata": {
      "needs_background": "light"
     },
     "output_type": "display_data"
    }
   ],
   "source": [
    "df.plot()"
   ]
  },
  {
   "cell_type": "code",
   "execution_count": null,
   "id": "258df265",
   "metadata": {},
   "outputs": [],
   "source": []
  }
 ],
 "metadata": {
  "kernelspec": {
   "display_name": "Python 3",
   "language": "python",
   "name": "python3"
  },
  "language_info": {
   "codemirror_mode": {
    "name": "ipython",
    "version": 3
   },
   "file_extension": ".py",
   "mimetype": "text/x-python",
   "name": "python",
   "nbconvert_exporter": "python",
   "pygments_lexer": "ipython3",
   "version": "3.9.1"
  }
 },
 "nbformat": 4,
 "nbformat_minor": 5
}
