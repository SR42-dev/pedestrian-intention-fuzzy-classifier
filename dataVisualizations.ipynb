{
 "cells": [
  {
   "cell_type": "code",
   "execution_count": 101,
   "id": "6fa392ed",
   "metadata": {},
   "outputs": [],
   "source": [
    "import numpy as np\n",
    "import pandas as pd\n",
    "import os\n",
    "import matplotlib.pyplot as plt \n",
    "import warnings\n"
   ]
  },
  {
   "cell_type": "code",
   "execution_count": 102,
   "id": "41da9bed",
   "metadata": {},
   "outputs": [],
   "source": [
    "def distance(x1, y1, x2, y2):\n",
    "    return np.math.sqrt(((x1 - x2) ** 2) + ((y1 - y2) ** 2))"
   ]
  },
  {
   "attachments": {},
   "cell_type": "markdown",
   "id": "92088304",
   "metadata": {},
   "source": [
    "*Plotting the accuracy of the system*"
   ]
  },
  {
   "cell_type": "code",
   "execution_count": 103,
   "id": "53c9b888",
   "metadata": {},
   "outputs": [
    {
     "name": "stdout",
     "output_type": "stream",
     "text": [
      "---------------------------------------------------------\n",
      "testData/data0.csv\n",
      "---------------------------------------------------------\n",
      "\n",
      "   frameNumber  windowSize  XYError  timeToFuture          time        fps  \\\n",
      "0            0           4       10             1  1.657587e+09  27.880430   \n",
      "1            1           4       10             1  1.657587e+09  11.140812   \n",
      "2            2           4       10             1  1.657587e+09  22.638262   \n",
      "3            3           4       10             1  1.657587e+09  22.281328   \n",
      "4            4           4       10             1  1.657587e+09  22.727442   \n",
      "\n",
      "   currentCenterX  currentCenterY  leftShoulderX  leftShoulderY  \\\n",
      "0             238             240            256            224   \n",
      "1             239             246            257            224   \n",
      "2             240             244            260            224   \n",
      "3             242             244            262            224   \n",
      "4             245             244            265            223   \n",
      "\n",
      "   rightShoulderX  rightShoulderY  angleOfApproach  XFrameSpeed  YFrameSpeed  \\\n",
      "0             220             216       142.830533   140.711455   141.893904   \n",
      "1             221             219       145.910018     0.575846     3.455077   \n",
      "2             221             223       138.218737     0.561653    -1.123307   \n",
      "3             223             225       122.758556     1.096218     0.000000   \n",
      "4             225             225       103.719399     2.674802     0.000000   \n",
      "\n",
      "   occupiedHeights  predictedX  predictedY  \n",
      "0         0.467593  253.717330  255.849409  \n",
      "1         0.467593  246.408523  251.223851  \n",
      "2         0.483796  244.272349  248.815901  \n",
      "3         0.490741  243.704261  247.611925  \n",
      "4         0.497685  243.963409  246.889540  \n",
      "---------------------------------------------------------\n",
      "testData/data3.csv\n",
      "---------------------------------------------------------\n",
      "\n",
      "   frameNumber  windowSize  XYError  timeToFuture          time        fps  \\\n",
      "0            0           4       20             1  1.657517e+09   0.000000   \n",
      "1            1           4       20             1  1.657517e+09   2.278800   \n",
      "2            2           4       20             1  1.657517e+09   8.569843   \n",
      "3            3           4       20             1  1.657517e+09  10.553992   \n",
      "4            4           4       20             1  1.657517e+09   9.370966   \n",
      "\n",
      "   currentCenterX  currentCenterY  leftShoulderX  leftShoulderY  \\\n",
      "0             237             213            259            149   \n",
      "1             239             215            262            150   \n",
      "2             242             218            264            156   \n",
      "3             246             221            267            159   \n",
      "4             250             224            272            162   \n",
      "\n",
      "   rightShoulderX  rightShoulderY  angleOfApproach  XFrameSpeed  YFrameSpeed  \\\n",
      "0             216             149        -8.316795   541.305727   486.489957   \n",
      "1             217             150        -8.755537     3.613228     3.613228   \n",
      "2             220             152        -8.332023     4.620580     4.620580   \n",
      "3             225             156        -7.477612     5.298121     3.973591   \n",
      "4             229             160        -6.594952     9.381688     7.036266   \n",
      "\n",
      "   occupiedHeights  predictedX  predictedY  \n",
      "0         0.719907  237.000000  213.000000  \n",
      "1         0.722222  239.416914  214.000000  \n",
      "2         0.722222  240.986494  215.333333  \n",
      "3         0.724537  242.726697  216.750000  \n",
      "4         0.729167  245.967243  218.200000  \n",
      "---------------------------------------------------------\n",
      "testData/data2.csv\n",
      "---------------------------------------------------------\n",
      "\n",
      "   frameNumber  windowSize  XYError  timeToFuture          time       fps  \\\n",
      "0            0           4       20             1  1.657517e+09  0.000000   \n",
      "1            1           4       20             1  1.657517e+09  1.426271   \n",
      "2            2           4       20             1  1.657517e+09  7.538926   \n",
      "3            3           4       20             1  1.657517e+09  8.718807   \n",
      "4            4           4       20             1  1.657517e+09  9.370904   \n",
      "\n",
      "   currentCenterX  currentCenterY  leftShoulderX  leftShoulderY  \\\n",
      "0             574             207            592            187   \n",
      "1             571             208            590            187   \n",
      "2             569             208            588            187   \n",
      "3             568             207            587            187   \n",
      "4             567             205            586            185   \n",
      "\n",
      "   rightShoulderX  rightShoulderY  angleOfApproach  XFrameSpeed  YFrameSpeed  \\\n",
      "0             557             188       151.017487   821.016143   296.080734   \n",
      "1             553             188       158.056482    -3.606718     1.202239   \n",
      "2             551             188       160.118246    -2.113098     0.000000   \n",
      "3             549             187       160.881845    -0.949499    -0.949499   \n",
      "4             549             185       161.483867    -1.698003    -2.547004   \n",
      "\n",
      "   occupiedHeights   predictedX  predictedY  \n",
      "0         0.414352  1375.040840  495.877097  \n",
      "1         0.412037   973.020420  351.938549  \n",
      "2         0.409722   837.646312  303.959032  \n",
      "3         0.409722   770.047300  279.531840  \n",
      "4         0.414352   729.334839  264.470970  \n",
      "---------------------------------------------------------\n",
      "testData/data1.csv\n",
      "---------------------------------------------------------\n",
      "\n",
      "   frameNumber  windowSize  XYError  timeToFuture          time       fps  \\\n",
      "0            0           4       10             1  1.657587e+09  0.000000   \n",
      "1            1           4       10             1  1.657587e+09  2.348169   \n",
      "2            2           4       10             1  1.657587e+09  8.304549   \n",
      "3            3           4       10             1  1.657587e+09  7.894997   \n",
      "4            4           4       10             1  1.657587e+09  9.830139   \n",
      "\n",
      "   currentCenterX  currentCenterY  leftShoulderX  leftShoulderY  \\\n",
      "0             290             285            285            251   \n",
      "1             285             286            280            251   \n",
      "2             283             288            279            251   \n",
      "3             279             296            272            251   \n",
      "4             275             297            267            251   \n",
      "\n",
      "   rightShoulderX  rightShoulderY  angleOfApproach  XFrameSpeed  YFrameSpeed  \\\n",
      "0             295             244       148.604642   682.572044   670.803560   \n",
      "1             291             244       156.030137    -9.186351     1.837270   \n",
      "2             288             245       158.529048    -2.976441     2.976441   \n",
      "3             286             246       159.488809    -5.170155    10.340311   \n",
      "4             283             246       159.803550    -8.535745     9.602713   \n",
      "\n",
      "   occupiedHeights  predictedX  predictedY  \n",
      "0         0.509259  687.158940  675.311372  \n",
      "1         0.504630  486.079470  480.655686  \n",
      "2         0.527778  418.386313  416.437124  \n",
      "3         0.541667  383.539735  386.327843  \n",
      "4         0.546296  361.831788  368.462274  \n",
      "---------------------------------------------------------\n",
      "testData/data5.csv\n",
      "---------------------------------------------------------\n",
      "\n",
      "   frameNumber  windowSize  XYError  timeToFuture          time        fps  \\\n",
      "0            0           4       10             1  1.657514e+09  21.333333   \n",
      "1            1           4       10             1  1.657514e+09   9.198802   \n",
      "2            2           4       10             1  1.657514e+09   8.286649   \n",
      "3            3           4       10             1  1.657514e+09   8.218534   \n",
      "4            4           4       10             1  1.657514e+09  13.549419   \n",
      "\n",
      "   currentCenterX  currentCenterY  leftShoulderX  leftShoulderY  \\\n",
      "0             464             149            473            140   \n",
      "1             462             146            473            140   \n",
      "2             450             154            461            136   \n",
      "3             450             151            461            138   \n",
      "4             449             150            461            138   \n",
      "\n",
      "   rightShoulderX  rightShoulderY  angleOfApproach  XFrameSpeed  YFrameSpeed  \\\n",
      "0             456             146       146.174104   395.612241   127.039276   \n",
      "1             452             142       156.003647    -1.591544    -2.387316   \n",
      "2             439             139       160.543175    -6.851980     4.567986   \n",
      "3             439             139       163.833703     0.000000    -1.643725   \n",
      "4             437             140       166.196628    -0.525786    -2.103143   \n",
      "\n",
      "   occupiedHeights  predictedX  predictedY  \n",
      "0         0.310185  499.574969  160.423858  \n",
      "1         0.305556  480.409600  152.645103  \n",
      "2         0.333333  470.273067  153.096735  \n",
      "3         0.324074  465.204800  152.572551  \n",
      "4         0.321759  461.863624  151.657179  \n",
      "---------------------------------------------------------\n",
      "testData/data4.csv\n",
      "---------------------------------------------------------\n",
      "\n",
      "   frameNumber  windowSize  XYError  timeToFuture          time       fps  \\\n",
      "0            0           4       20             1  1.657517e+09  0.000000   \n",
      "1            1           4       20             1  1.657517e+09  1.602571   \n",
      "2            2           4       20             1  1.657517e+09  9.283952   \n",
      "3            3           4       20             1  1.657517e+09  9.734274   \n",
      "4            4           4       20             1  1.657517e+09  9.115555   \n",
      "\n",
      "   currentCenterX  currentCenterY  leftShoulderX  leftShoulderY  \\\n",
      "0             461             208            458            148   \n",
      "1             463             207            457            147   \n",
      "2             463             207            458            147   \n",
      "3             465             208            461            147   \n",
      "4             466             209            461            147   \n",
      "\n",
      "   rightShoulderX  rightShoulderY  angleOfApproach  XFrameSpeed  YFrameSpeed  \\\n",
      "0             465             147       151.436843   739.968858   333.868812   \n",
      "1             469             146       160.140578     2.740754    -1.370377   \n",
      "2             469             145       163.172552     0.000000     0.000000   \n",
      "3             470             145       164.332329     2.122805     1.061402   \n",
      "4             472             145       164.557570     2.835974     1.890649   \n",
      "\n",
      "   occupiedHeights   predictedX  predictedY  \n",
      "0         0.671296  1054.351009  475.715857  \n",
      "1         0.673611   760.041427  341.357928  \n",
      "2         0.678241   661.027618  296.571952  \n",
      "3         0.682870   612.320933  274.579074  \n",
      "4         0.689815   583.265045  261.602125  \n",
      "---------------------------------------------------------\n",
      "testData/data6.csv\n",
      "---------------------------------------------------------\n",
      "\n",
      "   frameNumber  windowSize  XYError  timeToFuture          time        fps  \\\n",
      "0            0           4       10             1  1.657514e+09   0.000000   \n",
      "1            1           4       10             1  1.657514e+09   2.584205   \n",
      "2            2           4       10             1  1.657514e+09  12.012453   \n",
      "3            3           4       10             1  1.657514e+09  12.852913   \n",
      "4            4           4       10             1  1.657514e+09  12.227792   \n",
      "\n",
      "   currentCenterX  currentCenterY  leftShoulderX  leftShoulderY  \\\n",
      "0             422             177            425            153   \n",
      "1             428             173            414            151   \n",
      "2             427             173            411            151   \n",
      "3             425             170            410            148   \n",
      "4             420             172            405            149   \n",
      "\n",
      "   rightShoulderX  rightShoulderY  angleOfApproach  XFrameSpeed  YFrameSpeed  \\\n",
      "0             419             153       161.644265  1093.352273   458.586143   \n",
      "1             442             155       169.470249    12.760170    -8.506780   \n",
      "2             444             155       172.137473    -1.828092     0.000000   \n",
      "3             440             154       173.068323    -3.180656    -4.770984   \n",
      "4             436             154       173.402912    -9.823498    -1.403357   \n",
      "\n",
      "   occupiedHeights  predictedX  predictedY  \n",
      "0         0.372685  582.963191  244.512997  \n",
      "1         0.372685  505.481596  208.756499  \n",
      "2         0.377315  478.836004  196.837666  \n",
      "3         0.377315  464.612966  188.982194  \n",
      "4         0.375000  454.086016  185.356562  \n"
     ]
    }
   ],
   "source": [
    "directory = 'testData'\n",
    "for filename in os.listdir(directory):\n",
    "    f = os.path.join(directory, filename)\n",
    "    if os.path.isfile(f):\n",
    "        print('---------------------------------------------------------')\n",
    "        print(f)\n",
    "        print('---------------------------------------------------------\\n')\n",
    "        df = pd.read_csv(f)\n",
    "        print(df.head())"
   ]
  },
  {
   "cell_type": "code",
   "execution_count": 104,
   "id": "80578acb",
   "metadata": {},
   "outputs": [
    {
     "name": "stdout",
     "output_type": "stream",
     "text": [
      "Prediction accuracy v/s Radius from actual location\n"
     ]
    },
    {
     "data": {
      "image/png": "[encoded data removed]",
      "text/plain": [
       "<Figure size 432x288 with 1 Axes>"
      ]
     },
     "metadata": {
      "needs_background": "light"
     },
     "output_type": "display_data"
    },
    {
     "name": "stdout",
     "output_type": "stream",
     "text": [
      "Accuracy at 50px radius : 0.8764044943820225\n"
     ]
    },
    {
     "data": {
      "image/png": "[encoded data removed]",
      "text/plain": [
       "<Figure size 432x288 with 1 Axes>"
      ]
     },
     "metadata": {
      "needs_background": "light"
     },
     "output_type": "display_data"
    },
    {
     "name": "stdout",
     "output_type": "stream",
     "text": [
      "Accuracy at 50px radius : 0.9156626506024096\n"
     ]
    },
    {
     "data": {
      "image/png": "[encoded data removed]",
      "text/plain": [
       "<Figure size 432x288 with 1 Axes>"
      ]
     },
     "metadata": {
      "needs_background": "light"
     },
     "output_type": "display_data"
    },
    {
     "name": "stdout",
     "output_type": "stream",
     "text": [
      "Accuracy at 50px radius : 0.9084967320261438\n"
     ]
    },
    {
     "data": {
      "image/png": "[encoded data removed]",
      "text/plain": [
       "<Figure size 432x288 with 1 Axes>"
      ]
     },
     "metadata": {
      "needs_background": "light"
     },
     "output_type": "display_data"
    },
    {
     "name": "stdout",
     "output_type": "stream",
     "text": [
      "Accuracy at 50px radius : 0.7697841726618705\n"
     ]
    },
    {
     "data": {
      "image/png": "[encoded data removed]",
      "text/plain": [
       "<Figure size 432x288 with 1 Axes>"
      ]
     },
     "metadata": {
      "needs_background": "light"
     },
     "output_type": "display_data"
    },
    {
     "name": "stdout",
     "output_type": "stream",
     "text": [
      "Accuracy at 50px radius : 0.8072417465388712\n"
     ]
    },
    {
     "data": {
      "image/png": "[encoded data removed]",
      "text/plain": [
       "<Figure size 432x288 with 1 Axes>"
      ]
     },
     "metadata": {
      "needs_background": "light"
     },
     "output_type": "display_data"
    },
    {
     "name": "stdout",
     "output_type": "stream",
     "text": [
      "Accuracy at 50px radius : 0.8425925925925926\n"
     ]
    },
    {
     "data": {
      "image/png": "[encoded data removed]",
      "text/plain": [
       "<Figure size 432x288 with 1 Axes>"
      ]
     },
     "metadata": {
      "needs_background": "light"
     },
     "output_type": "display_data"
    },
    {
     "name": "stdout",
     "output_type": "stream",
     "text": [
      "Accuracy at 50px radius : 0.7296296296296296\n"
     ]
    }
   ],
   "source": [
    "# mapping accuracy rates based on radii from actual locations\n",
    "thresholdRadii = list(range(1, 432)) # 432 being the smaller of the two window dimensions\n",
    "accuracies50px = []\n",
    "\n",
    "directory = 'testData'\n",
    "print('Prediction accuracy v/s Radius from actual location')\n",
    "for filename in os.listdir(directory):\n",
    "    \n",
    "    f = os.path.join(directory, filename)\n",
    "    \n",
    "    if os.path.isfile(f):\n",
    "        \n",
    "        df = pd.read_csv(f)\n",
    "        accuracyDict = dict()\n",
    "        # frameGap = df['timeToFuture'].mean() * df['fps'].mean()\n",
    "\n",
    "        for thresholdRadius in thresholdRadii:\n",
    "\n",
    "            accuratePred = []\n",
    "            for j in range(1, len(df)):\n",
    "\n",
    "                x1 = df['currentCenterX'][j]\n",
    "                y1 = df['currentCenterY'][j]\n",
    "                x2 = df['predictedX'][j - 1]\n",
    "                y2 = df['predictedY'][j - 1]\n",
    "\n",
    "                if distance(x1, y1, x2, y2) < thresholdRadius:\n",
    "                    accuratePred.append(True)\n",
    "                else:\n",
    "                    accuratePred.append(False)\n",
    "\n",
    "                accuracy = accuratePred.count(True) / len(accuratePred)\n",
    "\n",
    "            accuracyDict[str(thresholdRadius)] = accuracy\n",
    "\n",
    "        accuracySeries = pd.Series(accuracyDict)\n",
    "        ax = accuracySeries.plot(colormap='jet', grid=True, title=f)\n",
    "        ax.set_xlabel(\"Accuracy radius (px)\")\n",
    "        ax.set_ylabel(\"Accuracy of prediction\")\n",
    "        plt.show()\n",
    "        print('Accuracy at 50px radius : ' + str(accuracySeries[50]))\n",
    "        accuracies50px.append((f, accuracySeries[50]))"
   ]
  },
  {
   "cell_type": "code",
   "execution_count": 105,
   "id": "b677ed0a",
   "metadata": {},
   "outputs": [
    {
     "name": "stdout",
     "output_type": "stream",
     "text": [
      "--------------------------------------------------------------------\n",
      "Accuracy data for all test cases at 50px radius from actual location\n",
      "--------------------------------------------------------------------\n",
      "Mean accuracy = 0.8356\n",
      "Standard deviation = 0.0652\n",
      "Variance = 0.0042\n"
     ]
    },
    {
     "data": {
      "image/png": "[encoded data removed]",
      "text/plain": [
       "<Figure size 432x288 with 1 Axes>"
      ]
     },
     "metadata": {
      "needs_background": "light"
     },
     "output_type": "display_data"
    }
   ],
   "source": [
    "# visualizing the accuracy of prediction at 50 pixel radius for all test cases\n",
    "accuracies50px = dict(accuracies50px)\n",
    "\n",
    "print('--------------------------------------------------------------------')\n",
    "print('Accuracy data for all test cases at 50px radius from actual location')\n",
    "print('--------------------------------------------------------------------')\n",
    "\n",
    "plt.xticks(fontsize=5)\n",
    "plt.tight_layout()\n",
    "plt.bar(accuracies50px.keys(), accuracies50px.values(), 0.755)\n",
    "\n",
    "print('Mean accuracy = ' + str(np.mean(list(accuracies50px.values())))[0:6])\n",
    "print('Standard deviation = ' + str(np.std(list(accuracies50px.values())))[0:6])\n",
    "print('Variance = ' + str(np.var(list(accuracies50px.values())))[0:6])"
   ]
  },
  {
   "attachments": {},
   "cell_type": "markdown",
   "id": "35089219",
   "metadata": {},
   "source": [
    "*Information gain testing for decision tree modelling*"
   ]
  },
  {
   "cell_type": "code",
   "execution_count": 106,
   "id": "bce51c38",
   "metadata": {},
   "outputs": [
    {
     "name": "stdout",
     "output_type": "stream",
     "text": [
      "Prediction accuracy v/s Radius from actual location\n",
      "(2328, 4)\n"
     ]
    },
    {
     "data": {
      "text/html": [
       "<div>\n",
       "<style scoped>\n",
       "    .dataframe tbody tr th:only-of-type {\n",
       "        vertical-align: middle;\n",
       "    }\n",
       "\n",
       "    .dataframe tbody tr th {\n",
       "        vertical-align: top;\n",
       "    }\n",
       "\n",
       "    .dataframe thead th {\n",
       "        text-align: right;\n",
       "    }\n",
       "</style>\n",
       "<table border=\"1\" class=\"dataframe\">\n",
       "  <thead>\n",
       "    <tr style=\"text-align: right;\">\n",
       "      <th></th>\n",
       "      <th>angleOfApproach</th>\n",
       "      <th>XFrameSpeed</th>\n",
       "      <th>YFrameSpeed</th>\n",
       "      <th>accuratePred</th>\n",
       "    </tr>\n",
       "  </thead>\n",
       "  <tbody>\n",
       "    <tr>\n",
       "      <th>0</th>\n",
       "      <td>1</td>\n",
       "      <td>1</td>\n",
       "      <td>1</td>\n",
       "      <td>True</td>\n",
       "    </tr>\n",
       "    <tr>\n",
       "      <th>1</th>\n",
       "      <td>1</td>\n",
       "      <td>3</td>\n",
       "      <td>3</td>\n",
       "      <td>True</td>\n",
       "    </tr>\n",
       "    <tr>\n",
       "      <th>2</th>\n",
       "      <td>1</td>\n",
       "      <td>3</td>\n",
       "      <td>3</td>\n",
       "      <td>True</td>\n",
       "    </tr>\n",
       "    <tr>\n",
       "      <th>3</th>\n",
       "      <td>1</td>\n",
       "      <td>3</td>\n",
       "      <td>3</td>\n",
       "      <td>True</td>\n",
       "    </tr>\n",
       "    <tr>\n",
       "      <th>4</th>\n",
       "      <td>4</td>\n",
       "      <td>3</td>\n",
       "      <td>3</td>\n",
       "      <td>True</td>\n",
       "    </tr>\n",
       "  </tbody>\n",
       "</table>\n",
       "</div>"
      ],
      "text/plain": [
       "   angleOfApproach  XFrameSpeed  YFrameSpeed accuratePred\n",
       "0                1            1            1         True\n",
       "1                1            3            3         True\n",
       "2                1            3            3         True\n",
       "3                1            3            3         True\n",
       "4                4            3            3         True"
      ]
     },
     "execution_count": 106,
     "metadata": {},
     "output_type": "execute_result"
    }
   ],
   "source": [
    "# mapping accuracy rates based on radii from actual locations\n",
    "#thresholdRadii = list(range(1, 432)) # 432 being the smaller of the two window dimensions\n",
    "thresholdRadii = [50]\n",
    "accuracies50px = []\n",
    "listdf = []\n",
    "\n",
    "directory = 'testData'\n",
    "print('Prediction accuracy v/s Radius from actual location')\n",
    "for filename in os.listdir(directory):\n",
    "    \n",
    "    f = os.path.join(directory, filename)\n",
    "    \n",
    "    if os.path.isfile(f):\n",
    "        \n",
    "        df = pd.read_csv(f)\n",
    "        accuracyDict = dict()\n",
    "        # frameGap = df['timeToFuture'].mean() * df['fps'].mean()\n",
    "\n",
    "        for thresholdRadius in thresholdRadii:\n",
    "\n",
    "            accuratePred = []\n",
    "            for j in range(1, len(df)):\n",
    "\n",
    "                x1 = df['currentCenterX'][j]\n",
    "                y1 = df['currentCenterY'][j]\n",
    "                x2 = df['predictedX'][j - 1]\n",
    "                y2 = df['predictedY'][j - 1]\n",
    "\n",
    "                if distance(x1, y1, x2, y2) < thresholdRadius:\n",
    "                    accuratePred.append(True)\n",
    "                else:\n",
    "                    accuratePred.append(False)\n",
    "\n",
    "                accuracy = accuratePred.count(True) / len(accuratePred)\n",
    "\n",
    "            accuracyDict[str(thresholdRadius)] = accuracy\n",
    "\n",
    "        df = df.dropna()\n",
    "        accuratePred = ['True'] + accuratePred\n",
    "        df['accuratePred'] = accuratePred\n",
    "\n",
    "        err = 15\n",
    "        df['angleOfApproach'] = df[\"angleOfApproach\"].apply(lambda val: 4 if (val > (90-err) and val < (90+err)) else 3 if (val > (0-err) and val <(0+err)) else 2 if (val > 0 and val <90) else 1 if (val > 90 and val < 180) else 5)\n",
    "        df['XFrameSpeed'] = df[\"XFrameSpeed\"].apply(lambda val: 3 if (val > (0 - err) and val < (0 + err)) else 1 if (val > 0) else 2)\n",
    "        df['YFrameSpeed'] = df[\"YFrameSpeed\"].apply(lambda val: 3 if (val > (0 - err) and val < (0 + err)) else 1 if (val > 0) else 2)\n",
    "\n",
    "        df.pop('frameNumber')\n",
    "        df.pop('windowSize')\n",
    "        df.pop('XYError')\n",
    "        df.pop('timeToFuture')\n",
    "        df.pop('time')\n",
    "        df.pop('fps')\n",
    "        df.pop('leftShoulderX')\n",
    "        df.pop('leftShoulderY')\n",
    "        df.pop('rightShoulderX')\n",
    "        df.pop('rightShoulderY')\n",
    "        df.pop('occupiedHeights')\n",
    "        df.pop('currentCenterX')\n",
    "        df.pop('currentCenterY')\n",
    "        df.pop('predictedX')\n",
    "        df.pop('predictedY')\n",
    "\n",
    "        listdf.append(df)\n",
    "\n",
    "        #accuracySeries = pd.Series(accuracyDict)\n",
    "        #ax = accuracySeries.plot(colormap='jet', grid=True, title=f)\n",
    "        #ax.set_xlabel(\"Accuracy radius (px)\")\n",
    "        #ax.set_ylabel(\"Accuracy of prediction\")\n",
    "        #plt.show()\n",
    "        #print('Accuracy at 50px radius : ' + str(accuracySeries[50]))\n",
    "        #accuracies50px.append((f, accuracySeries[50]))\n",
    "\n",
    "bigdf = pd.concat(listdf, axis=0)\n",
    "bigdf = bigdf.dropna()\n",
    "print(bigdf.shape)\n",
    "bigdf.head()"
   ]
  },
  {
   "cell_type": "code",
   "execution_count": 113,
   "id": "4807708d",
   "metadata": {},
   "outputs": [],
   "source": [
    "# impurity calculation\n",
    "def compute_impurity(feature, impurity_criterion):\n",
    "    \"\"\"\n",
    "    This function calculates impurity of a feature.\n",
    "    Supported impurity criteria: 'entropy', 'gini'\n",
    "    input: feature (this needs to be a Pandas series)\n",
    "    output: feature impurity\n",
    "    \"\"\"\n",
    "    probs = feature.value_counts(normalize=True)\n",
    "    \n",
    "    if impurity_criterion == 'entropy':\n",
    "        impurity = -1 * np.sum(np.log2(probs) * probs)\n",
    "    elif impurity_criterion == 'gini':\n",
    "        impurity = 1 - np.sum(np.square(probs))\n",
    "    else:\n",
    "        raise ValueError('Unknown impurity criterion')\n",
    "        \n",
    "    return(round(impurity, 3))\n",
    "\n",
    "\n",
    "# information gain calculation\n",
    "def comp_feature_information_gain(df, target, descriptive_feature, split_criterion):\n",
    "    \"\"\"\n",
    "    This function calculates information gain for splitting on \n",
    "    a particular descriptive feature for a given dataset\n",
    "    and a given impurity criteria.\n",
    "    Supported split criterion: 'entropy', 'gini'\n",
    "    \"\"\"\n",
    "    \n",
    "    print('target feature:', target)\n",
    "    print('descriptive_feature:', descriptive_feature)\n",
    "    print('split criterion:', split_criterion)\n",
    "            \n",
    "    target_entropy = compute_impurity(df[target], split_criterion)\n",
    "\n",
    "    # we define two lists below:\n",
    "    # entropy_list to store the entropy of each partition\n",
    "    # weight_list to store the relative number of observations in each partition\n",
    "    entropy_list = list()\n",
    "    weight_list = list()\n",
    "    \n",
    "    # loop over each level of the descriptive feature\n",
    "    # to partition the dataset with respect to that level\n",
    "    # and compute the entropy and the weight of the level's partition\n",
    "    for level in df[descriptive_feature].unique():\n",
    "        df_feature_level = df[df[descriptive_feature] == level]\n",
    "        entropy_level = compute_impurity(df_feature_level[target], split_criterion)\n",
    "        entropy_list.append(round(entropy_level, 3))\n",
    "        weight_level = len(df_feature_level) / len(df)\n",
    "        weight_list.append(round(weight_level, 3))\n",
    "\n",
    "    print('impurity of partitions:', entropy_list)\n",
    "    print('weights of partitions:', weight_list)\n",
    "\n",
    "    feature_remaining_impurity = np.sum(np.array(entropy_list) * np.array(weight_list))\n",
    "    print('remaining impurity:', feature_remaining_impurity)\n",
    "    \n",
    "    information_gain = target_entropy - feature_remaining_impurity\n",
    "    print('information gain:', information_gain)\n",
    "    \n",
    "    print('====================')\n",
    "\n",
    "    return(information_gain)"
   ]
  },
  {
   "cell_type": "code",
   "execution_count": 116,
   "id": "d07cf83b",
   "metadata": {},
   "outputs": [
    {
     "name": "stdout",
     "output_type": "stream",
     "text": [
      "target feature: accuratePred\n",
      "descriptive_feature: angleOfApproach\n",
      "split criterion: entropy\n",
      "impurity of partitions: [0.784, -0.0, 0.592, 0.545]\n",
      "weights of partitions: [0.927, 0.001, 0.036, 0.036]\n",
      "remaining impurity: 0.7677\n",
      "information gain: 0.0042999999999999705\n",
      "====================\n",
      "target feature: accuratePred\n",
      "descriptive_feature: XFrameSpeed\n",
      "split criterion: entropy\n",
      "impurity of partitions: [0.954, 0.605, 0.725]\n",
      "weights of partitions: [0.206, 0.119, 0.675]\n",
      "remaining impurity: 0.757894\n",
      "information gain: 0.014106000000000063\n",
      "====================\n",
      "target feature: accuratePred\n",
      "descriptive_feature: YFrameSpeed\n",
      "split criterion: entropy\n",
      "impurity of partitions: [0.897, 0.588, 0.836]\n",
      "weights of partitions: [0.3, 0.419, 0.28]\n",
      "remaining impurity: 0.749552\n",
      "information gain: 0.022448000000000023\n",
      "====================\n"
     ]
    }
   ],
   "source": [
    "# evaluation of the information gains from the discretized data\n",
    "warnings.filterwarnings(\"ignore\")\n",
    "ig1 = comp_feature_information_gain(bigdf, 'accuratePred', 'angleOfApproach', 'entropy')\n",
    "ig2 = comp_feature_information_gain(bigdf, 'accuratePred', 'XFrameSpeed', 'entropy')\n",
    "ig3 = comp_feature_information_gain(bigdf, 'accuratePred', 'YFrameSpeed', 'entropy')"
   ]
  },
  {
   "cell_type": "code",
   "execution_count": null,
   "id": "674a6d10",
   "metadata": {},
   "outputs": [],
   "source": []
  }
 ],
 "metadata": {
  "kernelspec": {
   "display_name": "Python 3",
   "language": "python",
   "name": "python3"
  },
  "language_info": {
   "codemirror_mode": {
    "name": "ipython",
    "version": 3
   },
   "file_extension": ".py",
   "mimetype": "text/x-python",
   "name": "python",
   "nbconvert_exporter": "python",
   "pygments_lexer": "ipython3",
   "version": "3.9.1"
  }
 },
 "nbformat": 4,
 "nbformat_minor": 5
}
