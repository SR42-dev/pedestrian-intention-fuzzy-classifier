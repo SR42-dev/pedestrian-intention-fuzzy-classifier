{
 "cells": [
  {
   "cell_type": "code",
   "execution_count": 26,
   "id": "6fa392ed",
   "metadata": {},
   "outputs": [],
   "source": [
    "import numpy as np\n",
    "\n",
    "def distance(x1, y1, x2, y2):\n",
    "    return np.math.sqrt(((x1 - x2) ** 2) + ((y1 - y2) ** 2))"
   ]
  },
  {
   "cell_type": "code",
   "execution_count": 27,
   "id": "53c9b888",
   "metadata": {},
   "outputs": [
    {
     "data": {
      "text/html": [
       "<div>\n",
       "<style scoped>\n",
       "    .dataframe tbody tr th:only-of-type {\n",
       "        vertical-align: middle;\n",
       "    }\n",
       "\n",
       "    .dataframe tbody tr th {\n",
       "        vertical-align: top;\n",
       "    }\n",
       "\n",
       "    .dataframe thead th {\n",
       "        text-align: right;\n",
       "    }\n",
       "</style>\n",
       "<table border=\"1\" class=\"dataframe\">\n",
       "  <thead>\n",
       "    <tr style=\"text-align: right;\">\n",
       "      <th></th>\n",
       "      <th>frameNumber</th>\n",
       "      <th>windowSize</th>\n",
       "      <th>XYError</th>\n",
       "      <th>timeToFuture</th>\n",
       "      <th>currentCenterX</th>\n",
       "      <th>currentCenterY</th>\n",
       "      <th>leftShoulderX</th>\n",
       "      <th>leftShoulderY</th>\n",
       "      <th>rightShoulderX</th>\n",
       "      <th>rightShoulderY</th>\n",
       "      <th>angleOfApproach</th>\n",
       "      <th>XFrameSpeed</th>\n",
       "      <th>YFrameSpeed</th>\n",
       "      <th>occupiedHeights</th>\n",
       "      <th>predictedX</th>\n",
       "      <th>predictedY</th>\n",
       "    </tr>\n",
       "  </thead>\n",
       "  <tbody>\n",
       "    <tr>\n",
       "      <th>0</th>\n",
       "      <td>0</td>\n",
       "      <td>2</td>\n",
       "      <td>10</td>\n",
       "      <td>1</td>\n",
       "      <td>238</td>\n",
       "      <td>240</td>\n",
       "      <td>256</td>\n",
       "      <td>224</td>\n",
       "      <td>220</td>\n",
       "      <td>216</td>\n",
       "      <td>158.700592</td>\n",
       "      <td>6453.109094</td>\n",
       "      <td>6507.336902</td>\n",
       "      <td>0.467593</td>\n",
       "      <td>561.573989</td>\n",
       "      <td>566.293098</td>\n",
       "    </tr>\n",
       "    <tr>\n",
       "      <th>1</th>\n",
       "      <td>1</td>\n",
       "      <td>2</td>\n",
       "      <td>10</td>\n",
       "      <td>1</td>\n",
       "      <td>239</td>\n",
       "      <td>246</td>\n",
       "      <td>257</td>\n",
       "      <td>224</td>\n",
       "      <td>221</td>\n",
       "      <td>219</td>\n",
       "      <td>130.638170</td>\n",
       "      <td>11.140930</td>\n",
       "      <td>66.845582</td>\n",
       "      <td>0.467593</td>\n",
       "      <td>241.386444</td>\n",
       "      <td>260.318667</td>\n",
       "    </tr>\n",
       "    <tr>\n",
       "      <th>2</th>\n",
       "      <td>2</td>\n",
       "      <td>2</td>\n",
       "      <td>10</td>\n",
       "      <td>1</td>\n",
       "      <td>240</td>\n",
       "      <td>244</td>\n",
       "      <td>260</td>\n",
       "      <td>224</td>\n",
       "      <td>221</td>\n",
       "      <td>223</td>\n",
       "      <td>38.349974</td>\n",
       "      <td>35.429503</td>\n",
       "      <td>70.859006</td>\n",
       "      <td>0.483796</td>\n",
       "      <td>239.000000</td>\n",
       "      <td>243.333333</td>\n",
       "    </tr>\n",
       "    <tr>\n",
       "      <th>3</th>\n",
       "      <td>3</td>\n",
       "      <td>2</td>\n",
       "      <td>10</td>\n",
       "      <td>1</td>\n",
       "      <td>242</td>\n",
       "      <td>244</td>\n",
       "      <td>262</td>\n",
       "      <td>224</td>\n",
       "      <td>223</td>\n",
       "      <td>225</td>\n",
       "      <td>3.771347</td>\n",
       "      <td>41.778225</td>\n",
       "      <td>0.000000</td>\n",
       "      <td>0.490741</td>\n",
       "      <td>273.513990</td>\n",
       "      <td>243.500000</td>\n",
       "    </tr>\n",
       "    <tr>\n",
       "      <th>4</th>\n",
       "      <td>4</td>\n",
       "      <td>2</td>\n",
       "      <td>10</td>\n",
       "      <td>1</td>\n",
       "      <td>245</td>\n",
       "      <td>244</td>\n",
       "      <td>265</td>\n",
       "      <td>223</td>\n",
       "      <td>225</td>\n",
       "      <td>225</td>\n",
       "      <td>-6.989651</td>\n",
       "      <td>104.364478</td>\n",
       "      <td>0.000000</td>\n",
       "      <td>0.497685</td>\n",
       "      <td>320.186005</td>\n",
       "      <td>243.600000</td>\n",
       "    </tr>\n",
       "  </tbody>\n",
       "</table>\n",
       "</div>"
      ],
      "text/plain": [
       "   frameNumber  windowSize  XYError  timeToFuture  currentCenterX  \\\n",
       "0            0           2       10             1             238   \n",
       "1            1           2       10             1             239   \n",
       "2            2           2       10             1             240   \n",
       "3            3           2       10             1             242   \n",
       "4            4           2       10             1             245   \n",
       "\n",
       "   currentCenterY  leftShoulderX  leftShoulderY  rightShoulderX  \\\n",
       "0             240            256            224             220   \n",
       "1             246            257            224             221   \n",
       "2             244            260            224             221   \n",
       "3             244            262            224             223   \n",
       "4             244            265            223             225   \n",
       "\n",
       "   rightShoulderY  angleOfApproach  XFrameSpeed  YFrameSpeed  occupiedHeights  \\\n",
       "0             216       158.700592  6453.109094  6507.336902         0.467593   \n",
       "1             219       130.638170    11.140930    66.845582         0.467593   \n",
       "2             223        38.349974    35.429503    70.859006         0.483796   \n",
       "3             225         3.771347    41.778225     0.000000         0.490741   \n",
       "4             225        -6.989651   104.364478     0.000000         0.497685   \n",
       "\n",
       "   predictedX  predictedY  \n",
       "0  561.573989  566.293098  \n",
       "1  241.386444  260.318667  \n",
       "2  239.000000  243.333333  \n",
       "3  273.513990  243.500000  \n",
       "4  320.186005  243.600000  "
      ]
     },
     "execution_count": 27,
     "metadata": {},
     "output_type": "execute_result"
    }
   ],
   "source": [
    "import pandas as pd\n",
    "df = pd.read_csv('data.csv')\n",
    "df.head()"
   ]
  },
  {
   "cell_type": "code",
   "execution_count": 28,
   "id": "80578acb",
   "metadata": {},
   "outputs": [
    {
     "data": {
      "text/plain": [
       "1      0.000000\n",
       "2      0.000000\n",
       "3      0.000000\n",
       "4      0.011236\n",
       "5      0.011236\n",
       "         ...   \n",
       "427    0.898876\n",
       "428    0.898876\n",
       "429    0.898876\n",
       "430    0.898876\n",
       "431    0.898876\n",
       "Length: 431, dtype: float64"
      ]
     },
     "execution_count": 28,
     "metadata": {},
     "output_type": "execute_result"
    }
   ],
   "source": [
    "# mapping accuracy rates based on radii from actual locations\n",
    "\n",
    "thresholdRadii = list(range(1, 432)) # 432 being the smaller of the two window dimensions\n",
    "accuracyDict = dict()\n",
    "\n",
    "for thresholdRadius in thresholdRadii:\n",
    "    \n",
    "    accuratePred = []\n",
    "    for j in range(1, len(df)):\n",
    "    \n",
    "        x1 = df['currentCenterX'][j]\n",
    "        y1 = df['currentCenterY'][j]\n",
    "        x2 = df['predictedX'][j - 1]\n",
    "        y2 = df['predictedY'][j - 1]\n",
    "\n",
    "        if distance(x1, y1, x2, y2) < thresholdRadius:\n",
    "            accuratePred.append(True)\n",
    "        else:\n",
    "            accuratePred.append(False)\n",
    "\n",
    "        accuracy = accuratePred.count(True) / len(accuratePred)\n",
    "        \n",
    "    accuracyDict[str(thresholdRadius)] = accuracy\n",
    "    \n",
    "accuracySeries = pd.Series(accuracyDict)\n",
    "accuracySeries"
   ]
  },
  {
   "cell_type": "code",
   "execution_count": 37,
   "id": "258df265",
   "metadata": {},
   "outputs": [
    {
     "data": {
      "text/plain": [
       "<AxesSubplot:title={'center':'Prediction accuracy v/s Radius from actual location'}, xlabel='Accuracy radius (px)', ylabel='Accuracy of prediction'>"
      ]
     },
     "execution_count": 37,
     "metadata": {},
     "output_type": "execute_result"
    },
    {
     "data": {
      "image/png": "[encoded data removed]",
      "text/plain": [
       "<Figure size 432x288 with 1 Axes>"
      ]
     },
     "metadata": {
      "needs_background": "light"
     },
     "output_type": "display_data"
    }
   ],
   "source": [
    "ax = accuracySeries.plot(colormap='jet', grid=True, title='Prediction accuracy v/s Radius from actual location')\n",
    "ax.set_xlabel(\"Accuracy radius (px)\")\n",
    "ax.set_ylabel(\"Accuracy of prediction\")\n",
    "ax"
   ]
  },
  {
   "cell_type": "code",
   "execution_count": 30,
   "id": "5e66e257",
   "metadata": {},
   "outputs": [
    {
     "name": "stdout",
     "output_type": "stream",
     "text": [
      "Accuracy at 50px radius : 0.5617977528089888\n"
     ]
    }
   ],
   "source": [
    "print('Accuracy at 50px radius : ' + str(accuracySeries[50]))"
   ]
  }
 ],
 "metadata": {
  "kernelspec": {
   "display_name": "Python 3",
   "language": "python",
   "name": "python3"
  },
  "language_info": {
   "codemirror_mode": {
    "name": "ipython",
    "version": 3
   },
   "file_extension": ".py",
   "mimetype": "text/x-python",
   "name": "python",
   "nbconvert_exporter": "python",
   "pygments_lexer": "ipython3",
   "version": "3.9.1"
  }
 },
 "nbformat": 4,
 "nbformat_minor": 5
}
